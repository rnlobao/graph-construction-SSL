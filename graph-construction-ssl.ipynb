{
 "cells": [
  {
   "cell_type": "code",
   "execution_count": null,
   "metadata": {},
   "outputs": [],
   "source": [
    "# %pip install sslbookdata\n",
    "# %pip install scikit-learn\n",
    "# %pip install matplotlib\n",
    "# %pip install pandas\n",
    "# %pip install hdbscan\n",
    "# %pip install networkx\n",
    "# %pip install pygsp\n"
   ]
  },
  {
   "cell_type": "code",
   "execution_count": null,
   "metadata": {},
   "outputs": [],
   "source": [
    "# Imports\n",
    "\n",
    "from sklearn.neighbors import NearestNeighbors\n",
    "\n",
    "import matplotlib.pyplot as plt\n",
    "\n",
    "import networkx as nx\n",
    "\n",
    "import pandas as pd\n",
    "import numpy as np\n",
    "import sslbookdata\n",
    "\n",
    "import pygsp"
   ]
  },
  {
   "cell_type": "markdown",
   "metadata": {},
   "source": [
    "O que eu tenho que fazer:\n",
    "Datasets utilizaveis: USPS, COIL2, DIGIT-1, G-241C, G-241N e TEXT\n",
    "\n",
    "1) Construi grafos com duas etapas:\n",
    "HDBSCAN*\n",
    "\n",
    "2) Construção dos grafos usando um método baseado em densidade criando uma árvore geradora mínima\n",
    "\n",
    "3) Implementar os métodos de aprendizado (Label difusion) que foram:\n",
    "* GRF (Gaussian Random Fields)\n",
    "* LGC (Local and GLobal Consistency)\n",
    "* LapRLS (Laplacian Regularized Least Squares)\n",
    "* LapSVM (Laplacian Support Vector Machine)\n",
    "* RMGT (Robust Multi-class Graph Transductio)"
   ]
  },
  {
   "cell_type": "code",
   "execution_count": null,
   "metadata": {},
   "outputs": [],
   "source": [
    "# Upload dos datasets\n",
    "\n",
    "datasets = {\n",
    "    'USPS': sslbookdata.load_usps(0),\n",
    "    'COIL': sslbookdata.load_coil2(0),\n",
    "    'DIGIT': sslbookdata.load_digit1(0),\n",
    "    'GC': sslbookdata.load_g241c(0),\n",
    "    'GN': sslbookdata.load_g241n(0),\n",
    "    # 'TEXT': sslbookdata.load_text(0)\n",
    "}"
   ]
  },
  {
   "cell_type": "markdown",
   "metadata": {},
   "source": [
    "# Primeiro passo do HDBSCAN*\n",
    "\n",
    "Conceito de Core Distance: Raio mínimo necessário para que uma instância qualquer X seja considerado um objeto core, tendo em vista um número mínimo de pontos próximos (incluindo o próprio ponto)\n",
    "\n",
    "O primeiro passo do HDBSCAN* é computar a core distance em relação a uma variável de número mínimo de pontos para todos os objetos de X"
   ]
  },
  {
   "cell_type": "code",
   "execution_count": null,
   "metadata": {},
   "outputs": [],
   "source": [
    "def computeCoreDistance(datasetToComputeDistance, min_samples):\n",
    "    list_de_raios_minimos = []\n",
    "    list_de_indices_vizinhos = []\n",
    "    neighbors = NearestNeighbors(n_neighbors=min_samples).fit(datasetToComputeDistance)\n",
    "\n",
    "    distances, indices = neighbors.kneighbors(datasetToComputeDistance)\n",
    "    for i in range(len(datasetToComputeDistance)):\n",
    "        list_de_raios_minimos.append(distances[i, -1])\n",
    "        list_de_indices_vizinhos.append(indices[i])\n",
    "    return list_de_raios_minimos, list_de_indices_vizinhos"
   ]
  },
  {
   "cell_type": "code",
   "execution_count": null,
   "metadata": {},
   "outputs": [],
   "source": [
    "numeroMinimoDePontos = 3\n",
    "\n",
    "for dataset_name, dataset in datasets.items():\n",
    "    X = dataset['data']\n",
    "\n",
    "    plt.figure()\n",
    "    for i in range(1, len(X)):\n",
    "        plt.scatter(X[i, 0], X[i, 1], c='b', marker='o', s=8)\n",
    "    \n",
    "\n",
    "    listaDeRaiosMinimos, listaDeIndicesVizinhos = computeCoreDistance(X, numeroMinimoDePontos)\n",
    "\n",
    "    for i in listaDeIndicesVizinhos[0]:\n",
    "        plt.scatter(X[i, 0], X[i, 1], c='r', marker='o', s=8)\n",
    "        \n",
    "    plt.scatter(X[0, 0], X[0, 1], c='r', marker='x', s=32, label='Instância 1')\n",
    "\n",
    "    print(listaDeRaiosMinimos)\n",
    "    print(listaDeIndicesVizinhos)\n",
    "    \n",
    "    plt.xlabel('X')\n",
    "    plt.ylabel('Y')\n",
    "    plt.title(f'Instâncias do dataset {dataset_name}')\n",
    "    plt.show()\n",
    "\n",
    "    for i, min_radius in enumerate(listaDeRaiosMinimos):\n",
    "        print(f\"Raio mínimo necessário para a instância {i+1} ser um objeto core: {min_radius}\")\n"
   ]
  },
  {
   "cell_type": "markdown",
   "metadata": {},
   "source": [
    "# Segundo passo do HDBSCAN*\n",
    "\n",
    "Definição: Gmpts é o grafo de alcançabilidade mútua, sendo um grafo completo, em que os pontos são os objetos do dataset e os pesos das areastas é a distância de alcançabilidade entre os pontos\n",
    "\n",
    "A distância de alcançabilidade entre os pontos X1 e X2 é dada pelo maior valor entre: CoreDistance(X1), CoreDistance(X2) e Distância(X1, X2)\n",
    "\n",
    "\n",
    "## Criar uma árvore geradora mínima a partir do Gmpts"
   ]
  },
  {
   "cell_type": "code",
   "execution_count": null,
   "metadata": {},
   "outputs": [],
   "source": [
    "# TEMOS QUE CRIAR UMA FUNÇÃO QUE CALCULA A DISTÂNCIA DE ALCANÇABILIDADE ENTRE DOIS PONTOS\n",
    "\n",
    "def calculoDistanciaAlcancabilidadeMutua(datasetParaAlcancabilidade):\n",
    "    distancia_alcancabilidade_mutua = []\n",
    "    print(dataset_name)\n",
    "    for i in range(len(datasetParaAlcancabilidade)):\n",
    "        alcancabilidade_mutua = []\n",
    "        for j in range(len(datasetParaAlcancabilidade)):\n",
    "            if i != j:\n",
    "                distancia = np.linalg.norm(datasetParaAlcancabilidade[i] - datasetParaAlcancabilidade[j])\n",
    "                reachability_distance = max(distancia, listaDeRaiosMinimos[j])\n",
    "                alcancabilidade_mutua.append(reachability_distance)\n",
    "        distancia_alcancabilidade_mutua.append(alcancabilidade_mutua)\n",
    "\n",
    "    print(\"Distância de Alcançabilidade Mútua:\")\n",
    "    for i in range(len(distancia_alcancabilidade_mutua)):\n",
    "        for j in range(len(distancia_alcancabilidade_mutua[i])):\n",
    "            print(f\"Ponto {i} para Ponto {j}: {distancia_alcancabilidade_mutua[i][j]}\")\n",
    "    return distancia_alcancabilidade_mutua"
   ]
  },
  {
   "cell_type": "code",
   "execution_count": null,
   "metadata": {},
   "outputs": [],
   "source": [
    "G = nx.Graph()\n",
    "\n",
    "for dataset_name, dataset in datasets.items():\n",
    "    calculoDatasetParaAlcancabilidade = dataset['data']\n",
    "    distancia_alcancabilidade_mutua = calculoDistanciaAlcancabilidadeMutua(calculoDatasetParaAlcancabilidade)\n",
    "\n",
    "    num_instancias = len(distancia_alcancabilidade_mutua)\n",
    "    G.add_nodes_from(range(num_instancias))\n",
    "\n",
    "    for i in range(len(distancia_alcancabilidade_mutua)):\n",
    "        for j in range(len(distancia_alcancabilidade_mutua[i])):\n",
    "            peso = distancia_alcancabilidade_mutua[i][j]\n",
    "            G.add_edge(i, j, weight=peso)\n"
   ]
  },
  {
   "cell_type": "code",
   "execution_count": null,
   "metadata": {},
   "outputs": [],
   "source": [
    "minimum_spanning_tree = nx.minimum_spanning_tree(G)\n",
    "\n",
    "pos = nx.spring_layout(G)\n",
    "plt.figure(figsize=(12, 8))\n",
    "nx.draw(minimum_spanning_tree, pos, with_labels=True, node_size=200, font_size=10, font_color='black', node_color='lightblue', edge_color='green')\n",
    "plt.title(\"Árvore Geradora Mínima\")\n",
    "plt.show()"
   ]
  },
  {
   "cell_type": "markdown",
   "metadata": {},
   "source": [
    "# Propagação de rótulos a partir da árvore geradora mínima\n",
    "\n",
    "Precisamos usar todos esses métodos:\n",
    "* GRF (Gaussian Random Fields)\n",
    "* LGC (Local and GLobal Consistency)\n",
    "* LapRLS (Laplacian Regularized Least Squares)\n",
    "* LapSVM (Laplacian Support Vector Machine)\n",
    "* RMGT (Robust Multi-class Graph Transductio)"
   ]
  },
  {
   "cell_type": "code",
   "execution_count": null,
   "metadata": {},
   "outputs": [],
   "source": [
    "# GRF\n",
    "\n",
    "labels = np.zeros(len(minimum_spanning_tree.nodes))\n",
    "seed_node = 0\n",
    "labels[seed_node] = 1.0\n",
    "\n",
    "G_gsp = pygsp.graphs.Graph(nx.adjacency_matrix(minimum_spanning_tree))\n",
    "\n",
    "alpha = 0.1\n",
    "beta = 1.0\n",
    "num_iterations = 10\n",
    "\n",
    "for i in range(num_iterations):\n",
    "    labels = alpha * G_gsp.L.dot(labels) + (1 - alpha) * beta * labels\n",
    "\n",
    "print(\"Rótulos finais:\")\n",
    "for node, label in enumerate(labels):\n",
    "    print(f\"Nó {node}: {label:.2f}\")"
   ]
  }
 ],
 "metadata": {
  "kernelspec": {
   "display_name": "Python 3",
   "language": "python",
   "name": "python3"
  },
  "language_info": {
   "codemirror_mode": {
    "name": "ipython",
    "version": 3
   },
   "file_extension": ".py",
   "mimetype": "text/x-python",
   "name": "python",
   "nbconvert_exporter": "python",
   "pygments_lexer": "ipython3",
   "version": "3.11.4"
  }
 },
 "nbformat": 4,
 "nbformat_minor": 2
}
