{
 "cells": [
  {
   "cell_type": "markdown",
   "metadata": {},
   "source": [
    "# Sets iniciais do projeto.\n",
    "Instalação de bibliotecas necessárias, imports e criação dos datasets de teste"
   ]
  },
  {
   "cell_type": "code",
   "execution_count": null,
   "metadata": {},
   "outputs": [],
   "source": [
    "# Instalação das bibliotecas\n",
    "\n",
    "# %pip install sslbookdata\n",
    "# %pip install scikit-learn\n",
    "# %pip install matplotlib\n",
    "# %pip install pandas\n",
    "# %pip install hdbscan\n",
    "# %pip install networkx\n",
    "# %pip install pygsp"
   ]
  },
  {
   "cell_type": "code",
   "execution_count": null,
   "metadata": {},
   "outputs": [],
   "source": [
    "# Importação das bibliotecas\n",
    "\n",
    "from sklearn.neighbors import NearestNeighbors\n",
    "import matplotlib.pyplot as plt\n",
    "import networkx as nx\n",
    "import pandas as pd\n",
    "import numpy as np\n",
    "import sslbookdata\n",
    "import pygsp"
   ]
  },
  {
   "cell_type": "code",
   "execution_count": null,
   "metadata": {},
   "outputs": [],
   "source": [
    "# Upload dos datasets\n",
    "\n",
    "datasets = {\n",
    "    'USPS': sslbookdata.load_usps(0),\n",
    "    'COIL': sslbookdata.load_coil2(0),\n",
    "    'DIGIT': sslbookdata.load_digit1(0),\n",
    "    'GC': sslbookdata.load_g241c(0),\n",
    "    'GN': sslbookdata.load_g241n(0),\n",
    "    # 'TEXT': sslbookdata.load_text(0)\n",
    "}"
   ]
  },
  {
   "cell_type": "markdown",
   "metadata": {},
   "source": [
    "# Quais serão os passos da construção desse trabalho?\n",
    "1) Geração de um grafo a partir do dataset\n",
    "2) Difusão dos rótulos a partir do grafo\n",
    "3) Gerar uma análise dos resultados obtidos\n"
   ]
  },
  {
   "cell_type": "markdown",
   "metadata": {},
   "source": [
    "# 1) Geração de um grafo a partir do dataset\n",
    "\n",
    "O conceito abordado é a utilização dos dois primeiros passos do HDBSCAN* a fim de gerar uma árvore geradora mínima, esse é nosso objetivo"
   ]
  },
  {
   "cell_type": "markdown",
   "metadata": {},
   "source": [
    "## Primeira etapa do HDBSCAN* - Computar core distance para todas instâncias do dataset em relação a um número mínimo de pontos\n",
    "\n",
    "Conceito de Core Distance: Raio mínimo necessário para que uma instância qualquer X seja considerado um objeto core, tendo em vista um número mínimo de pontos próximos (incluindo o próprio ponto)"
   ]
  },
  {
   "cell_type": "code",
   "execution_count": null,
   "metadata": {},
   "outputs": [],
   "source": [
    "# Codigo que computa o core distance e retorna um array que contem os raios minimos \n",
    "# e as 3 instâncias que são as mais próximas de determinado ponto\n",
    "\n",
    "def computeCoreDistance(datasetToComputeDistance, min_samples):\n",
    "    datasetToComputeDistance = datasetToComputeDistance['data']\n",
    "    list_de_raios_minimos = []\n",
    "    list_de_indices_vizinhos = []\n",
    "    neighbors = NearestNeighbors(n_neighbors=min_samples).fit(datasetToComputeDistance)\n",
    "\n",
    "    distances, indices = neighbors.kneighbors(datasetToComputeDistance)\n",
    "    for i in range(len(datasetToComputeDistance)):\n",
    "        list_de_raios_minimos.append(distances[i, -1])\n",
    "        list_de_indices_vizinhos.append(indices[i])\n",
    "    return list_de_raios_minimos, list_de_indices_vizinhos"
   ]
  },
  {
   "cell_type": "code",
   "execution_count": null,
   "metadata": {},
   "outputs": [],
   "source": [
    "# Print dos raios minimos, das 3 instancias mais proximas de cada ponto \n",
    "# e o dataset em 2d com os 3 pontos mais próximos da primeira instâncias\n",
    "\n",
    "def plotGraphAndStats(dataset_name, dataset, listOfNeighboringIndices, listOfMinimumRadius):\n",
    "    datasetForPlot = dataset['data']\n",
    "    plt.figure()\n",
    "    for i in range(1, len(datasetForPlot)):\n",
    "        plt.scatter(datasetForPlot[i, 0], datasetForPlot[i, 1], c='b', marker='o', s=8)\n",
    "    for i in listOfNeighboringIndices[0]:\n",
    "        plt.scatter(datasetForPlot[i, 0], datasetForPlot[i, 1], c='r', marker='o', s=8)\n",
    "    plt.scatter(datasetForPlot[0, 0], datasetForPlot[0, 1], c='r', marker='x', s=32, label='Instância 1')\n",
    "    print(f'Raio mínimo para instância 1 ser um core: {listOfMinimumRadius[0]}')\n",
    "    print(f'Lista das intâncias mais perto da instância 1: {listOfNeighboringIndices[0]}')\n",
    "    plt.xlabel('X')\n",
    "    plt.ylabel('Y')\n",
    "    plt.title(f'Instâncias do dataset {dataset_name}')\n",
    "    plt.show()"
   ]
  },
  {
   "cell_type": "code",
   "execution_count": null,
   "metadata": {},
   "outputs": [],
   "source": [
    "datasetTreino = datasets['USPS']\n",
    "numeroMinimoDePontos = 3\n",
    "listaDeRaiosMinimos, listaDeIndicesVizinhos = computeCoreDistance(datasetTreino, numeroMinimoDePontos)\n",
    "plotGraphAndStats('USPS', datasetTreino, listaDeIndicesVizinhos, listaDeRaiosMinimos)"
   ]
  },
  {
   "cell_type": "markdown",
   "metadata": {},
   "source": [
    "## Segunda etapa do HDBSCAN* - Gerar uma árvore geradora mínima a partir do grafo de alcançabilidade mútua\n",
    "\n",
    "Grafo de alcançabilidade mútua: grafo completo em que os pontos são os objetos do dataset e os pesos das areastas é a distância de alcançabilidade entre os pontos, dado os pontos x1 e x2 essa ditância é calculada pelo maior valor entre: CoreDistance(X1), CoreDistance(X2) e Distância(X1, X2)"
   ]
  },
  {
   "cell_type": "code",
   "execution_count": null,
   "metadata": {},
   "outputs": [],
   "source": [
    "# TEMOS QUE CRIAR UMA FUNÇÃO QUE CALCULA A DISTÂNCIA DE ALCANÇABILIDADE ENTRE DOIS PONTOS\n",
    "\n",
    "def mutualReachabilityDistanceCalculation(datasetParaAlcancabilidade, printarDistancias=False):\n",
    "    datasetParaAlcancabilidade = datasetParaAlcancabilidade['data']\n",
    "    distancia_alcancabilidade_mutua = []\n",
    "    for i in range(len(datasetParaAlcancabilidade)):\n",
    "        alcancabilidade_mutua = []\n",
    "        for j in range(len(datasetParaAlcancabilidade)):\n",
    "            if i != j:\n",
    "                distancia = np.linalg.norm(datasetParaAlcancabilidade[i] - datasetParaAlcancabilidade[j])\n",
    "                reachability_distance = max(distancia, listaDeRaiosMinimos[j])\n",
    "                alcancabilidade_mutua.append(reachability_distance)\n",
    "        distancia_alcancabilidade_mutua.append(alcancabilidade_mutua)\n",
    "\n",
    "    if printarDistancias:\n",
    "        print(\"Distância de Alcançabilidade Mútua:\")\n",
    "        for i in range(len(distancia_alcancabilidade_mutua)):\n",
    "            for j in range(len(distancia_alcancabilidade_mutua[i])):\n",
    "                print(f\"Ponto {i} para Ponto {j}: {distancia_alcancabilidade_mutua[i][j]}\")\n",
    "                \n",
    "    return distancia_alcancabilidade_mutua"
   ]
  },
  {
   "cell_type": "code",
   "execution_count": null,
   "metadata": {},
   "outputs": [],
   "source": [
    "# Criação de um grafo de alcançabilidade mutua\n",
    "\n",
    "def createReachabilityGraph(mutual_reachability_distance):\n",
    "    G = nx.Graph()\n",
    "    num_instancias = len(mutual_reachability_distance)\n",
    "    G.add_nodes_from(range(num_instancias))\n",
    "    for i in range(len(mutual_reachability_distance)):\n",
    "        for j in range(len(mutual_reachability_distance[i])):\n",
    "            peso = mutual_reachability_distance[i][j]\n",
    "            G.add_edge(i, j, weight=peso)\n",
    "    return G\n"
   ]
  },
  {
   "cell_type": "code",
   "execution_count": null,
   "metadata": {},
   "outputs": [],
   "source": [
    "# Criação de uma árvore geradora minima a partir de um grafo\n",
    "\n",
    "def createMinimumSpanningTree(baseGraph, printGraph=False):\n",
    "    minimum_spanning_tree = nx.minimum_spanning_tree(baseGraph)\n",
    "    if printGraph:\n",
    "        pos = nx.spring_layout(G)\n",
    "        plt.figure(figsize=(12, 8))\n",
    "        nx.draw(minimum_spanning_tree, pos, with_labels=True, node_size=200, font_size=10, font_color='black', node_color='lightblue', edge_color='green')\n",
    "        plt.title(\"Árvore Geradora Mínima\")\n",
    "        plt.show()\n",
    "    return minimum_spanning_tree\n"
   ]
  },
  {
   "cell_type": "code",
   "execution_count": null,
   "metadata": {},
   "outputs": [],
   "source": [
    "distancia_alcancabilidade_mutua = mutualReachabilityDistanceCalculation(datasetTreino)\n",
    "reachability_graph = createReachabilityGraph(distancia_alcancabilidade_mutua)\n",
    "mst = createMinimumSpanningTree(reachability_graph)"
   ]
  },
  {
   "cell_type": "markdown",
   "metadata": {},
   "source": [
    "# 2) Difusão dos rótulos a partir do grafo\n",
    "\n",
    "Recebendo a MST do primeiro passo precisamos usar todos esses métodos:\n",
    "* GRF (Gaussian Random Fields)\n",
    "* LGC (Local and GLobal Consistency)\n",
    "* LapRLS (Laplacian Regularized Least Squares)\n",
    "* LapSVM (Laplacian Support Vector Machine)\n",
    "* RMGT (Robust Multi-class Graph Transductio)"
   ]
  },
  {
   "cell_type": "code",
   "execution_count": null,
   "metadata": {},
   "outputs": [],
   "source": [
    "def grfDiffusion(grfGraph):"
   ]
  }
 ],
 "metadata": {
  "kernelspec": {
   "display_name": "Python 3",
   "language": "python",
   "name": "python3"
  },
  "language_info": {
   "codemirror_mode": {
    "name": "ipython",
    "version": 3
   },
   "file_extension": ".py",
   "mimetype": "text/x-python",
   "name": "python",
   "nbconvert_exporter": "python",
   "pygments_lexer": "ipython3",
   "version": "3.11.4"
  },
  "orig_nbformat": 4
 },
 "nbformat": 4,
 "nbformat_minor": 2
}
