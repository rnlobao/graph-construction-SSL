{
 "cells": [
  {
   "cell_type": "markdown",
   "metadata": {},
   "source": [
    "# Sets iniciais do projeto.\n",
    "Instalação de bibliotecas necessárias, imports e criação dos datasets de teste"
   ]
  },
  {
   "cell_type": "code",
   "execution_count": 66,
   "metadata": {},
   "outputs": [],
   "source": [
    "# Instalação das bibliotecas\n",
    "\n",
    "# %pip install sslbookdata\n",
    "# %pip install scikit-learn\n",
    "# %pip install matplotlib\n",
    "# %pip install pandas\n",
    "# %pip install hdbscan\n",
    "# %pip install networkx\n",
    "# %pip install pygsp"
   ]
  },
  {
   "cell_type": "code",
   "execution_count": 67,
   "metadata": {},
   "outputs": [],
   "source": [
    "# Importação das bibliotecas\n",
    "\n",
    "from sklearn.neighbors import NearestNeighbors\n",
    "import matplotlib.pyplot as plt\n",
    "import networkx as nx\n",
    "import pandas as pd\n",
    "import numpy as np\n",
    "import sslbookdata"
   ]
  },
  {
   "cell_type": "code",
   "execution_count": 68,
   "metadata": {},
   "outputs": [],
   "source": [
    "# Upload dos datasets\n",
    "\n",
    "datasets = {\n",
    "    'USPS': sslbookdata.load_usps(0),\n",
    "    'COIL': sslbookdata.load_coil2(0),\n",
    "    'DIGIT': sslbookdata.load_digit1(0),\n",
    "    'GC': sslbookdata.load_g241c(0),\n",
    "    'GN': sslbookdata.load_g241n(0),\n",
    "    # 'TEXT': sslbookdata.load_text(0)\n",
    "}"
   ]
  },
  {
   "cell_type": "markdown",
   "metadata": {},
   "source": [
    "# Quais serão os passos da construção desse trabalho?\n",
    "1) Geração de um grafo a partir do dataset\n",
    "2) Difusão dos rótulos a partir do grafo\n",
    "3) Gerar uma análise dos resultados obtidos\n"
   ]
  },
  {
   "cell_type": "markdown",
   "metadata": {},
   "source": [
    "# 1) Geração de um grafo a partir do dataset\n",
    "\n",
    "O conceito abordado é a utilização dos dois primeiros passos do HDBSCAN* a fim de gerar uma árvore geradora mínima, esse é nosso objetivo"
   ]
  },
  {
   "cell_type": "markdown",
   "metadata": {},
   "source": [
    "## Primeira etapa do HDBSCAN* - Computar core distance para todas instâncias do dataset em relação a um número mínimo de pontos\n",
    "\n",
    "Conceito de Core Distance: Raio mínimo necessário para que uma instância qualquer X seja considerado um objeto core, tendo em vista um número mínimo de pontos próximos (incluindo o próprio ponto)"
   ]
  },
  {
   "cell_type": "code",
   "execution_count": 69,
   "metadata": {},
   "outputs": [],
   "source": [
    "# Codigo que computa o core distance e retorna um array que contem os raios minimos \n",
    "# e as 3 instâncias que são as mais próximas de determinado ponto\n",
    "\n",
    "def computeCoreDistance(datasetToComputeDistance, min_samples):\n",
    "    list_de_raios_minimos = []\n",
    "    list_de_indices_vizinhos = []\n",
    "    neighbors = NearestNeighbors(n_neighbors=min_samples).fit(datasetToComputeDistance)\n",
    "\n",
    "    distances, indices = neighbors.kneighbors(datasetToComputeDistance)\n",
    "    for i in range(len(datasetToComputeDistance)):\n",
    "        list_de_raios_minimos.append(distances[i, -1])\n",
    "        list_de_indices_vizinhos.append(indices[i])\n",
    "    return list_de_raios_minimos, list_de_indices_vizinhos"
   ]
  },
  {
   "cell_type": "code",
   "execution_count": 70,
   "metadata": {},
   "outputs": [],
   "source": [
    "# Print dos raios minimos, das 3 instancias mais proximas de cada ponto \n",
    "# e o dataset em 2d com os 3 pontos mais próximos da primeira instâncias\n",
    "\n",
    "def plotGraphAndStats(dataset_name, datasetForPlot, listOfNeighboringIndices, listOfMinimumRadius):\n",
    "    plt.figure()\n",
    "    for i in range(1, len(datasetForPlot)):\n",
    "        plt.scatter(datasetForPlot[i, 0], datasetForPlot[i, 1], c='b', marker='o', s=8)\n",
    "    for i in listOfNeighboringIndices[0]:\n",
    "        plt.scatter(datasetForPlot[i, 0], datasetForPlot[i, 1], c='r', marker='o', s=8)\n",
    "    plt.scatter(datasetForPlot[0, 0], datasetForPlot[0, 1], c='r', marker='x', s=32, label='Instância 1')\n",
    "    print(f'Raio mínimo para instância 1 ser um core: {listOfMinimumRadius[0]}')\n",
    "    print(f'Lista das intâncias mais perto da instância 1: {listOfNeighboringIndices[0]}')\n",
    "    plt.xlabel('X')\n",
    "    plt.ylabel('Y')\n",
    "    plt.title(f'Instâncias do dataset {dataset_name}')\n",
    "    plt.show()"
   ]
  },
  {
   "cell_type": "code",
   "execution_count": 85,
   "metadata": {},
   "outputs": [],
   "source": [
    "datasetTreino = datasets['USPS']['data']\n",
    "leisbols = datasets['USPS']['target']\n",
    "\n",
    "dataframe = pd.DataFrame(datasetTreino)\n",
    "dataframe.to_csv('dataset.csv', index=False)\n",
    "\n",
    "numeroMinimoDePontos = 3\n",
    "listaDeRaiosMinimos, listaDeIndicesVizinhos = computeCoreDistance(datasetTreino, numeroMinimoDePontos)\n",
    "plotGraphAndStats('USPS', datasetTreino, listaDeIndicesVizinhos, listaDeRaiosMinimos)"
   ]
  },
  {
   "cell_type": "markdown",
   "metadata": {},
   "source": [
    "## Segunda etapa do HDBSCAN* - Gerar uma árvore geradora mínima a partir do grafo de alcançabilidade mútua\n",
    "\n",
    "Grafo de alcançabilidade mútua: grafo completo em que os pontos são os objetos do dataset e os pesos das areastas é a distância de alcançabilidade entre os pontos, dado os pontos x1 e x2 essa ditância é calculada pelo maior valor entre: CoreDistance(X1), CoreDistance(X2) e Distância(X1, X2)"
   ]
  },
  {
   "cell_type": "code",
   "execution_count": 72,
   "metadata": {},
   "outputs": [],
   "source": [
    "# TEMOS QUE CRIAR UMA FUNÇÃO QUE CALCULA A DISTÂNCIA DE ALCANÇABILIDADE ENTRE DOIS PONTOS\n",
    "\n",
    "def mutualReachabilityDistanceCalculation(datasetParaAlcancabilidade, printarDistancias=False):\n",
    "    datasetParaAlcancabilidade = datasetParaAlcancabilidade['data']\n",
    "    distancia_alcancabilidade_mutua = []\n",
    "    for i in range(len(datasetParaAlcancabilidade)):\n",
    "        alcancabilidade_mutua = []\n",
    "        for j in range(len(datasetParaAlcancabilidade)):\n",
    "            if i != j:\n",
    "                distancia = np.linalg.norm(datasetParaAlcancabilidade[i] - datasetParaAlcancabilidade[j])\n",
    "                reachability_distance = max(distancia, listaDeRaiosMinimos[j])\n",
    "                alcancabilidade_mutua.append(reachability_distance)\n",
    "        distancia_alcancabilidade_mutua.append(alcancabilidade_mutua)\n",
    "\n",
    "    if printarDistancias:\n",
    "        print(\"Distância de Alcançabilidade Mútua:\")\n",
    "        for i in range(len(distancia_alcancabilidade_mutua)):\n",
    "            for j in range(len(distancia_alcancabilidade_mutua[i])):\n",
    "                print(f\"Ponto {i} para Ponto {j}: {distancia_alcancabilidade_mutua[i][j]}\")\n",
    "                \n",
    "    return distancia_alcancabilidade_mutua"
   ]
  },
  {
   "cell_type": "code",
   "execution_count": 73,
   "metadata": {},
   "outputs": [],
   "source": [
    "# Criação de um grafo de alcançabilidade mutua\n",
    "\n",
    "def createReachabilityGraph(mutual_reachability_distance):\n",
    "    G = nx.Graph()\n",
    "    num_instancias = len(mutual_reachability_distance)\n",
    "    G.add_nodes_from(range(num_instancias))\n",
    "    for i in range(len(mutual_reachability_distance)):\n",
    "        for j in range(len(mutual_reachability_distance[i])):\n",
    "            peso = mutual_reachability_distance[i][j]\n",
    "            G.add_edge(i, j, weight=peso)\n",
    "    return G\n"
   ]
  },
  {
   "cell_type": "code",
   "execution_count": 74,
   "metadata": {},
   "outputs": [],
   "source": [
    "# Criação de uma árvore geradora minima a partir de um grafo\n",
    "\n",
    "def createMinimumSpanningTree(baseGraph, printGraph=False):\n",
    "    minimum_spanning_tree = nx.minimum_spanning_tree(baseGraph)\n",
    "    if printGraph:\n",
    "        pos = nx.spring_layout(minimum_spanning_tree)\n",
    "        labels = nx.get_edge_attributes(minimum_spanning_tree, 'weight')\n",
    "        edge_labels = {e: f'{labels[e]:.2f}' for e in minimum_spanning_tree.edges}\n",
    "        plt.figure(figsize=(20, 16))\n",
    "        nx.draw(minimum_spanning_tree, pos, with_labels=False, node_size=40, node_color='lightblue', edge_color='green')\n",
    "        nx.draw_networkx_edges(minimum_spanning_tree, pos)\n",
    "        nx.draw_networkx_edge_labels(minimum_spanning_tree, pos, edge_labels=edge_labels, font_size=6)\n",
    "        plt.title(\"Árvore Geradora Mínima\")\n",
    "        plt.show()\n",
    "    return minimum_spanning_tree\n"
   ]
  },
  {
   "cell_type": "code",
   "execution_count": 75,
   "metadata": {},
   "outputs": [
    {
     "ename": "IndexError",
     "evalue": "only integers, slices (`:`), ellipsis (`...`), numpy.newaxis (`None`) and integer or boolean arrays are valid indices",
     "output_type": "error",
     "traceback": [
      "\u001b[0;31m---------------------------------------------------------------------------\u001b[0m",
      "\u001b[0;31mIndexError\u001b[0m                                Traceback (most recent call last)",
      "\u001b[1;32m/Users/robsonnovato/Documents/GitHub/graph-construction-SSL/graph-construction-ssl.ipynb Célula 15\u001b[0m line \u001b[0;36m1\n\u001b[0;32m----> <a href='vscode-notebook-cell:/Users/robsonnovato/Documents/GitHub/graph-construction-SSL/graph-construction-ssl.ipynb#X20sZmlsZQ%3D%3D?line=0'>1</a>\u001b[0m distancia_alcancabilidade_mutua \u001b[39m=\u001b[39m mutualReachabilityDistanceCalculation(datasetTreino)\n\u001b[1;32m      <a href='vscode-notebook-cell:/Users/robsonnovato/Documents/GitHub/graph-construction-SSL/graph-construction-ssl.ipynb#X20sZmlsZQ%3D%3D?line=1'>2</a>\u001b[0m reachability_graph \u001b[39m=\u001b[39m createReachabilityGraph(distancia_alcancabilidade_mutua)\n\u001b[1;32m      <a href='vscode-notebook-cell:/Users/robsonnovato/Documents/GitHub/graph-construction-SSL/graph-construction-ssl.ipynb#X20sZmlsZQ%3D%3D?line=2'>3</a>\u001b[0m mst \u001b[39m=\u001b[39m createMinimumSpanningTree(reachability_graph, \u001b[39mTrue\u001b[39;00m)\n",
      "\u001b[1;32m/Users/robsonnovato/Documents/GitHub/graph-construction-SSL/graph-construction-ssl.ipynb Célula 15\u001b[0m line \u001b[0;36m4\n\u001b[1;32m      <a href='vscode-notebook-cell:/Users/robsonnovato/Documents/GitHub/graph-construction-SSL/graph-construction-ssl.ipynb#X20sZmlsZQ%3D%3D?line=2'>3</a>\u001b[0m \u001b[39mdef\u001b[39;00m \u001b[39mmutualReachabilityDistanceCalculation\u001b[39m(datasetParaAlcancabilidade, printarDistancias\u001b[39m=\u001b[39m\u001b[39mFalse\u001b[39;00m):\n\u001b[0;32m----> <a href='vscode-notebook-cell:/Users/robsonnovato/Documents/GitHub/graph-construction-SSL/graph-construction-ssl.ipynb#X20sZmlsZQ%3D%3D?line=3'>4</a>\u001b[0m     datasetParaAlcancabilidade \u001b[39m=\u001b[39m datasetParaAlcancabilidade[\u001b[39m'\u001b[39;49m\u001b[39mdata\u001b[39;49m\u001b[39m'\u001b[39;49m]\n\u001b[1;32m      <a href='vscode-notebook-cell:/Users/robsonnovato/Documents/GitHub/graph-construction-SSL/graph-construction-ssl.ipynb#X20sZmlsZQ%3D%3D?line=4'>5</a>\u001b[0m     distancia_alcancabilidade_mutua \u001b[39m=\u001b[39m []\n\u001b[1;32m      <a href='vscode-notebook-cell:/Users/robsonnovato/Documents/GitHub/graph-construction-SSL/graph-construction-ssl.ipynb#X20sZmlsZQ%3D%3D?line=5'>6</a>\u001b[0m     \u001b[39mfor\u001b[39;00m i \u001b[39min\u001b[39;00m \u001b[39mrange\u001b[39m(\u001b[39mlen\u001b[39m(datasetParaAlcancabilidade)):\n",
      "\u001b[0;31mIndexError\u001b[0m: only integers, slices (`:`), ellipsis (`...`), numpy.newaxis (`None`) and integer or boolean arrays are valid indices"
     ]
    }
   ],
   "source": [
    "distancia_alcancabilidade_mutua = mutualReachabilityDistanceCalculation(datasetTreino)\n",
    "reachability_graph = createReachabilityGraph(distancia_alcancabilidade_mutua)\n",
    "mst = createMinimumSpanningTree(reachability_graph, True)"
   ]
  },
  {
   "cell_type": "markdown",
   "metadata": {},
   "source": [
    "# 2) Difusão dos rótulos a partir do grafo\n",
    "\n",
    "Recebendo a MST do primeiro passo precisamos usar todos esses métodos:\n",
    "* GRF (Gaussian Random Fields)\n",
    "* LGC (Local and GLobal Consistency)\n",
    "* LapRLS (Laplacian Regularized Least Squares)\n",
    "* LapSVM (Laplacian Support Vector Machine)\n",
    "* RMGT (Robust Multi-class Graph Transductio)"
   ]
  },
  {
   "cell_type": "code",
   "execution_count": null,
   "metadata": {},
   "outputs": [
    {
     "ename": "SyntaxError",
     "evalue": "incomplete input (1695763698.py, line 1)",
     "output_type": "error",
     "traceback": [
      "\u001b[0;36m  Cell \u001b[0;32mIn[11], line 1\u001b[0;36m\u001b[0m\n\u001b[0;31m    def grfDiffusion(grfGraph):\u001b[0m\n\u001b[0m                               ^\u001b[0m\n\u001b[0;31mSyntaxError\u001b[0m\u001b[0;31m:\u001b[0m incomplete input\n"
     ]
    }
   ],
   "source": [
    "def grfDiffusion(grfGraph):"
   ]
  },
  {
   "cell_type": "markdown",
   "metadata": {},
   "source": []
  }
 ],
 "metadata": {
  "kernelspec": {
   "display_name": "Python 3",
   "language": "python",
   "name": "python3"
  },
  "language_info": {
   "codemirror_mode": {
    "name": "ipython",
    "version": 3
   },
   "file_extension": ".py",
   "mimetype": "text/x-python",
   "name": "python",
   "nbconvert_exporter": "python",
   "pygments_lexer": "ipython3",
   "version": "3.11.4"
  },
  "orig_nbformat": 4
 },
 "nbformat": 4,
 "nbformat_minor": 2
}
