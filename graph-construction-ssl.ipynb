{
 "cells": [
  {
   "cell_type": "markdown",
   "metadata": {},
   "source": [
    "# Sets iniciais do projeto.\n",
    "Instalação de bibliotecas necessárias, imports e criação dos datasets de teste\n",
    "| Data set | Classes | Dimension | Points |\n",
    "|----------|---------|-----------|--------|\n",
    "| g241c    | 2       | 241       | 1500   |\n",
    "| g241d    | 2       | 241       | 1500   |\n",
    "| Digit1   | 2       | 241       | 1500   |\n",
    "| USPS     | 2       | 241       | 1500   |\n",
    "| COIL     | 6       | 241       | 1500   |\n",
    "| Text     | 2       | 11,960    | 1500   |\n"
   ]
  },
  {
   "cell_type": "code",
   "execution_count": 248,
   "metadata": {},
   "outputs": [],
   "source": [
    "# Instalação das bibliotecas\n",
    "\n",
    "# %pip install sslbookdata\n",
    "# %pip install scikit-learn\n",
    "# %pip install matplotlib\n",
    "# %pip install networkx"
   ]
  },
  {
   "cell_type": "code",
   "execution_count": 249,
   "metadata": {},
   "outputs": [],
   "source": [
    "# Importação das bibliotecas\n",
    "\n",
    "from sklearn.neighbors import NearestNeighbors\n",
    "from sklearn.metrics import accuracy_score\n",
    "import matplotlib.pyplot as plt\n",
    "import networkx as nx\n",
    "import numpy as np\n",
    "import sslbookdata\n",
    "import time\n",
    "import pandas as pd"
   ]
  },
  {
   "cell_type": "code",
   "execution_count": 250,
   "metadata": {},
   "outputs": [],
   "source": [
    "# Upload dos datasets\n",
    "\n",
    "datasets = {\n",
    "    'USPS': sslbookdata.load_usps(0),\n",
    "    'COIL': sslbookdata.load_coil2(0),\n",
    "    'DIGIT': sslbookdata.load_digit1(0),\n",
    "    'GC': sslbookdata.load_g241c(0),\n",
    "    'GN': sslbookdata.load_g241n(0),\n",
    "    # 'TEXT': sslbookdata.load_text(0)\n",
    "}"
   ]
  },
  {
   "cell_type": "code",
   "execution_count": 251,
   "metadata": {},
   "outputs": [],
   "source": [
    "plotar_imagens = False"
   ]
  },
  {
   "cell_type": "markdown",
   "metadata": {},
   "source": [
    "# Quais serão os passos da construção desse trabalho?\n",
    "1) Geração de um grafo a partir do dataset\n",
    "2) Difusão dos rótulos a partir do grafo\n",
    "3) Gerar uma análise dos resultados obtidos\n"
   ]
  },
  {
   "cell_type": "markdown",
   "metadata": {},
   "source": [
    "# 1) Geração de um grafo a partir do dataset\n",
    "\n",
    "O conceito abordado é a utilização dos dois primeiros passos do HDBSCAN* a fim de gerar uma árvore geradora mínima, esse é nosso objetivo"
   ]
  },
  {
   "cell_type": "markdown",
   "metadata": {},
   "source": [
    "## Primeira etapa do HDBSCAN* - Computar core distance para todas instâncias do dataset em relação a um número mínimo de pontos\n",
    "\n",
    "Conceito de Core Distance: Raio mínimo necessário para que uma instância qualquer X seja considerado um objeto core, tendo em vista um número mínimo de pontos próximos (incluindo o próprio ponto)"
   ]
  },
  {
   "cell_type": "code",
   "execution_count": 252,
   "metadata": {},
   "outputs": [],
   "source": [
    "# Codigo que computa o core distance e retorna um array que contem os raios minimos \n",
    "# e as 3 instâncias que são as mais próximas de determinado ponto\n",
    "\n",
    "def computeCoreDistance(datasetToComputeDistance, min_samples):\n",
    "    list_de_raios_minimos = []\n",
    "    list_de_indices_vizinhos = []\n",
    "    neighbors = NearestNeighbors(n_neighbors=min_samples).fit(datasetToComputeDistance)\n",
    "\n",
    "    distances, indices = neighbors.kneighbors(datasetToComputeDistance)\n",
    "    for i in range(len(datasetToComputeDistance)):\n",
    "        list_de_raios_minimos.append(distances[i, -1])\n",
    "        list_de_indices_vizinhos.append(indices[i])\n",
    "    return list_de_raios_minimos, list_de_indices_vizinhos"
   ]
  },
  {
   "cell_type": "code",
   "execution_count": 253,
   "metadata": {},
   "outputs": [],
   "source": [
    "# Print dos raios minimos, das 3 instancias mais proximas de cada ponto \n",
    "# e o dataset em 2d com os 3 pontos mais próximos da primeira instâncias\n",
    "\n",
    "def plotGraphAndStats(dataset_name, datasetForPlot, listOfNeighboringIndices, listOfMinimumRadius):\n",
    "    plt.figure()\n",
    "    for i in range(1, len(datasetForPlot)):\n",
    "        plt.scatter(datasetForPlot[i, 0], datasetForPlot[i, 1], c='b', marker='o', s=8)\n",
    "    for i in listOfNeighboringIndices[0]:\n",
    "        plt.scatter(datasetForPlot[i, 0], datasetForPlot[i, 1], c='r', marker='o', s=8)\n",
    "    plt.scatter(datasetForPlot[0, 0], datasetForPlot[0, 1], c='r', marker='x', s=32, label='Instância 1')\n",
    "    print(f'Raio mínimo para instância 1 ser um core: {listOfMinimumRadius[0]}')\n",
    "    print(f'Lista das intâncias mais perto da instância 1: {listOfNeighboringIndices[0]}')\n",
    "    plt.xlabel('X')\n",
    "    plt.ylabel('Y')\n",
    "    plt.title(f'Instâncias do dataset {dataset_name}')\n",
    "    plt.show()"
   ]
  },
  {
   "cell_type": "code",
   "execution_count": 254,
   "metadata": {},
   "outputs": [],
   "source": [
    "datasetTreino = datasets['USPS']['data']\n",
    "numeroMinimoDePontos = 3\n",
    "listaDeRaiosMinimos, listaDeIndicesVizinhos = computeCoreDistance(datasetTreino, numeroMinimoDePontos)\n",
    "if plotar_imagens:\n",
    "    plotGraphAndStats('USPS', datasetTreino, listaDeIndicesVizinhos, listaDeRaiosMinimos)"
   ]
  },
  {
   "cell_type": "markdown",
   "metadata": {},
   "source": [
    "## Segunda etapa do HDBSCAN* - Gerar uma árvore geradora mínima a partir do grafo de alcançabilidade mútua\n",
    "\n",
    "Grafo de alcançabilidade mútua: grafo completo em que os pontos são os objetos do dataset e os pesos das areastas é a distância de alcançabilidade entre os pontos, dado os pontos x1 e x2 essa ditância é calculada pelo maior valor entre: CoreDistance(X1), CoreDistance(X2) e Distância(X1, X2)"
   ]
  },
  {
   "cell_type": "code",
   "execution_count": 255,
   "metadata": {},
   "outputs": [],
   "source": [
    "# TEMOS QUE CRIAR UMA FUNÇÃO QUE CALCULA A DISTÂNCIA DE ALCANÇABILIDADE ENTRE DOIS PONTOS\n",
    "\n",
    "def mutualReachabilityDistanceCalculation(datasetParaAlcancabilidade, printarDistancias=False):\n",
    "    distancia_alcancabilidade_mutua = []\n",
    "    for i in range(len(datasetParaAlcancabilidade)):\n",
    "        alcancabilidade_mutua = []\n",
    "        for j in range(len(datasetParaAlcancabilidade)):\n",
    "            if i != j:\n",
    "                distancia = np.linalg.norm(datasetParaAlcancabilidade[i] - datasetParaAlcancabilidade[j])\n",
    "                reachability_distance = max(distancia, listaDeRaiosMinimos[j])\n",
    "                alcancabilidade_mutua.append(reachability_distance)\n",
    "        distancia_alcancabilidade_mutua.append(alcancabilidade_mutua)\n",
    "\n",
    "    if printarDistancias:\n",
    "        print(\"Distância de Alcançabilidade Mútua:\")\n",
    "        for i in range(len(distancia_alcancabilidade_mutua)):\n",
    "            for j in range(len(distancia_alcancabilidade_mutua[i])):\n",
    "                print(f\"Ponto {i} para Ponto {j}: {distancia_alcancabilidade_mutua[i][j]}\")\n",
    "                \n",
    "    return distancia_alcancabilidade_mutua"
   ]
  },
  {
   "cell_type": "code",
   "execution_count": 256,
   "metadata": {},
   "outputs": [],
   "source": [
    "# Criação de um grafo de alcançabilidade mutua\n",
    "\n",
    "def createReachabilityGraph(mutual_reachability_distance):\n",
    "    G = nx.Graph()\n",
    "    num_instancias = len(mutual_reachability_distance)\n",
    "    G.add_nodes_from(range(num_instancias))\n",
    "    for i in range(len(mutual_reachability_distance)):\n",
    "        for j in range(len(mutual_reachability_distance[i])):\n",
    "            peso = mutual_reachability_distance[i][j]\n",
    "            G.add_edge(i, j, weight=peso)\n",
    "    return G\n"
   ]
  },
  {
   "cell_type": "code",
   "execution_count": 257,
   "metadata": {},
   "outputs": [],
   "source": [
    "def plotWeightedGraph(graphForPlot, alreadyWithLabels=False):\n",
    "    if alreadyWithLabels:\n",
    "        node_colors = ['blue' if graphForPlot.nodes[node]['label'] == 1 else 'red' for node in graphForPlot.nodes()]\n",
    "        blue_patch = plt.Line2D([0], [0], marker='o', color='w', label='Label 1', markerfacecolor='blue', markersize=10)\n",
    "        red_patch = plt.Line2D([0], [0], marker='o', color='w', label='Label -1', markerfacecolor='red', markersize=10)\n",
    "        plt.legend(handles=[blue_patch, red_patch])\n",
    "    else:\n",
    "        node_colors = 'lightblue'\n",
    "\n",
    "    pos = nx.spring_layout(graphForPlot)\n",
    "    labels = nx.get_edge_attributes(graphForPlot, 'weight')\n",
    "    edge_labels = {e: f'{labels[e]:.2f}' for e in graphForPlot.edges}\n",
    "    plt.figure(figsize=(20, 16))\n",
    "    nx.draw(graphForPlot, pos, with_labels=False, node_size=40, node_color=node_colors, edge_color='green')\n",
    "    nx.draw_networkx_edges(graphForPlot, pos)\n",
    "    nx.draw_networkx_edge_labels(graphForPlot, pos, edge_labels=edge_labels, font_size=6)\n",
    "    plt.title(\"Árvore Geradora Mínima\")\n",
    "    plt.show()"
   ]
  },
  {
   "cell_type": "code",
   "execution_count": 258,
   "metadata": {},
   "outputs": [],
   "source": [
    "# Criação de uma árvore geradora minima a partir de um grafo\n",
    "\n",
    "def createMinimumSpanningTree(baseGraph, printGraph=False):\n",
    "    minimum_spanning_tree = nx.minimum_spanning_tree(baseGraph)\n",
    "    if printGraph:\n",
    "        plotWeightedGraph(minimum_spanning_tree)\n",
    "    return minimum_spanning_tree\n"
   ]
  },
  {
   "cell_type": "code",
   "execution_count": 259,
   "metadata": {},
   "outputs": [],
   "source": [
    "distancia_alcancabilidade_mutua = mutualReachabilityDistanceCalculation(datasetTreino)\n",
    "reachability_graph = createReachabilityGraph(distancia_alcancabilidade_mutua)\n",
    "mst = createMinimumSpanningTree(reachability_graph, plotar_imagens)"
   ]
  },
  {
   "cell_type": "markdown",
   "metadata": {},
   "source": [
    "# 2) Difusão dos rótulos a partir do grafo\n",
    "\n",
    "Recebendo a MST do primeiro passo vamos usar um método de Gaussian Field Harmonic Function para propagar os \n",
    "rótulos"
   ]
  },
  {
   "cell_type": "code",
   "execution_count": 260,
   "metadata": {},
   "outputs": [],
   "source": [
    "# Função para distribuir os rótulos no grafo\n",
    "\n",
    "def assign_labels_to_graph(graph, labels, number_of_labels=10, assign_id=False):\n",
    "    random_nodes = np.random.choice(graph.nodes, number_of_labels, replace=False)\n",
    "    nx.set_node_attributes(graph, None, 'label')\n",
    "    for node, label in zip(random_nodes, labels[random_nodes]):\n",
    "        graph.nodes[node]['label'] = label\n",
    "    if assign_id:\n",
    "        nx.set_node_attributes(graph, dict(zip(graph.nodes, range(len(graph.nodes)))), 'ID')\n",
    "    result_dict = {\n",
    "        'random_nodes': random_nodes,\n",
    "        'graph': graph,\n",
    "        'labels': labels[random_nodes]\n",
    "    }\n",
    "    return result_dict"
   ]
  },
  {
   "cell_type": "code",
   "execution_count": 261,
   "metadata": {},
   "outputs": [],
   "source": [
    "# Função que reordena as instâncias, colocando as rotuladas na frente\n",
    "\n",
    "def reorder_nodes(graph, random_nodes):\n",
    "    if any(node not in graph.nodes for node in random_nodes):\n",
    "        raise ValueError(\"Um ou mais nós aleatórios não pertencem ao grafo.\")\n",
    "    remaining_nodes = [node for node in graph.nodes if node not in random_nodes]\n",
    "    result_array = np.concatenate((random_nodes, remaining_nodes))\n",
    "    return result_array"
   ]
  },
  {
   "cell_type": "code",
   "execution_count": 262,
   "metadata": {},
   "outputs": [],
   "source": [
    "# Função do Gaussian Field Harmonic Function\n",
    "\n",
    "def gfhf(ordemObjetos, yl, W):\n",
    "  nRotulado = yl.shape[0]\n",
    "  nNaoRotulado = W.shape[0]-nRotulado\n",
    "  nObjetos = W.shape[0]\n",
    "\n",
    "  D = np.zeros(W.shape)\n",
    "  np.fill_diagonal(D, np.sum(W, axis=1))\n",
    "\n",
    "  L= D - W\n",
    "\n",
    "  L = L[ordemObjetos,:]\n",
    "  L = L[:, ordemObjetos]\n",
    "\n",
    "  matRotulado = L[0:nRotulado, 0:nRotulado]\n",
    "  matNaoRotuladoRotulado = L[nRotulado:nObjetos, 0:nRotulado]\n",
    "  matNaoRotulado = L[nRotulado:nObjetos, nRotulado:nObjetos]\n",
    "\n",
    "  yl = np.asmatrix(yl)\n",
    "  matNaoRotuladoRotulado = np.asmatrix(matNaoRotuladoRotulado)\n",
    "  matNaoRotulado = np.asmatrix(matNaoRotulado)\n",
    "\n",
    "  f= -np.linalg.inv(matNaoRotulado)*matNaoRotuladoRotulado*yl\n",
    "  resultado = [0]*nObjetos\n",
    "\n",
    "  for i in range(nRotulado):\n",
    "    resultado[ordemObjetos[i]] = yl[i,0]\n",
    "\n",
    "  ordemNaoRotulado = ordemObjetos[nRotulado:]\n",
    "\n",
    "  for i in range(nNaoRotulado):\n",
    "    resultado[ordemNaoRotulado[i]]= int(1*np.sign(f[i,0]))\n",
    "\n",
    "  np.savetxt('./txt-para-analise/resultado.txt', resultado, fmt='%d')\n",
    "  return resultado"
   ]
  },
  {
   "cell_type": "code",
   "execution_count": 263,
   "metadata": {},
   "outputs": [
    {
     "name": "stdout",
     "output_type": "stream",
     "text": [
      "Esses são os objetos rotulados: [245, 370, 398, 412, 488, 674, 762, 863, 1055, 1242]\n"
     ]
    }
   ],
   "source": [
    "label_array = datasets['USPS']['target']\n",
    "resultado_rotulado = assign_labels_to_graph(mst, label_array, number_of_labels=10, assign_id=True)\n",
    "\n",
    "random_nodes = sorted(resultado_rotulado['random_nodes'])\n",
    "print(f'Esses são os objetos rotulados: {random_nodes}')"
   ]
  },
  {
   "cell_type": "code",
   "execution_count": 264,
   "metadata": {},
   "outputs": [
    {
     "name": "stdout",
     "output_type": "stream",
     "text": [
      "Acurácia: 0.7973333333333333\n"
     ]
    }
   ],
   "source": [
    "ordem_objetos = reorder_nodes(mst, random_nodes)\n",
    "yl = resultado_rotulado['labels']\n",
    "W = nx.linalg.graphmatrix.adjacency_matrix(mst).todense()\n",
    "\n",
    "resultado_GFHF = gfhf(ordem_objetos, yl, W)\n",
    "acuracia = accuracy_score(label_array, resultado_GFHF)\n",
    "print(\"Acurácia:\", acuracia)\n",
    "\n",
    "np.savetxt('./txt-para-analise/ordem_objetos.txt', ordem_objetos, fmt='%d')\n",
    "np.savetxt('./txt-para-analise/label_array.txt', label_array, fmt='%d')\n",
    "np.savetxt('./txt-para-analise/yl.txt', yl, fmt='%d')\n",
    "np.savetxt('./txt-para-analise/matriz_ajacencia.txt', W, fmt='%d')"
   ]
  },
  {
   "cell_type": "code",
   "execution_count": 265,
   "metadata": {},
   "outputs": [
    {
     "ename": "TypeError",
     "evalue": "'numpy.float64' object is not iterable",
     "output_type": "error",
     "traceback": [
      "\u001b[0;31m---------------------------------------------------------------------------\u001b[0m",
      "\u001b[0;31mTypeError\u001b[0m                                 Traceback (most recent call last)",
      "\u001b[1;32m/Users/robsonnovato/Documents/GitHub/graph-construction-SSL/graph-construction-ssl.ipynb Célula 24\u001b[0m line \u001b[0;36m7\n\u001b[1;32m      <a href='vscode-notebook-cell:/Users/robsonnovato/Documents/GitHub/graph-construction-SSL/graph-construction-ssl.ipynb#X64sZmlsZQ%3D%3D?line=3'>4</a>\u001b[0m   lowest_error_rate \u001b[39m=\u001b[39m \u001b[39mmin\u001b[39m(error_rates)\n\u001b[1;32m      <a href='vscode-notebook-cell:/Users/robsonnovato/Documents/GitHub/graph-construction-SSL/graph-construction-ssl.ipynb#X64sZmlsZQ%3D%3D?line=4'>5</a>\u001b[0m   \u001b[39mreturn\u001b[39;00m lowest_error_rate\n\u001b[0;32m----> <a href='vscode-notebook-cell:/Users/robsonnovato/Documents/GitHub/graph-construction-SSL/graph-construction-ssl.ipynb#X64sZmlsZQ%3D%3D?line=6'>7</a>\u001b[0m lowest_error_rate \u001b[39m=\u001b[39m lowest_average_error_rate(resultado_GFHF, label_array)\n\u001b[1;32m      <a href='vscode-notebook-cell:/Users/robsonnovato/Documents/GitHub/graph-construction-SSL/graph-construction-ssl.ipynb#X64sZmlsZQ%3D%3D?line=8'>9</a>\u001b[0m \u001b[39mprint\u001b[39m(\u001b[39m\"\u001b[39m\u001b[39mO menor erro médio obtido é:\u001b[39m\u001b[39m\"\u001b[39m, lowest_error_rate)\n",
      "\u001b[1;32m/Users/robsonnovato/Documents/GitHub/graph-construction-SSL/graph-construction-ssl.ipynb Célula 24\u001b[0m line \u001b[0;36m4\n\u001b[1;32m      <a href='vscode-notebook-cell:/Users/robsonnovato/Documents/GitHub/graph-construction-SSL/graph-construction-ssl.ipynb#X64sZmlsZQ%3D%3D?line=1'>2</a>\u001b[0m errors \u001b[39m=\u001b[39m np\u001b[39m.\u001b[39mnot_equal(resultado_GFHF, label_array)\n\u001b[1;32m      <a href='vscode-notebook-cell:/Users/robsonnovato/Documents/GitHub/graph-construction-SSL/graph-construction-ssl.ipynb#X64sZmlsZQ%3D%3D?line=2'>3</a>\u001b[0m error_rates \u001b[39m=\u001b[39m np\u001b[39m.\u001b[39mmean(errors)\n\u001b[0;32m----> <a href='vscode-notebook-cell:/Users/robsonnovato/Documents/GitHub/graph-construction-SSL/graph-construction-ssl.ipynb#X64sZmlsZQ%3D%3D?line=3'>4</a>\u001b[0m lowest_error_rate \u001b[39m=\u001b[39m \u001b[39mmin\u001b[39;49m(error_rates)\n\u001b[1;32m      <a href='vscode-notebook-cell:/Users/robsonnovato/Documents/GitHub/graph-construction-SSL/graph-construction-ssl.ipynb#X64sZmlsZQ%3D%3D?line=4'>5</a>\u001b[0m \u001b[39mreturn\u001b[39;00m lowest_error_rate\n",
      "\u001b[0;31mTypeError\u001b[0m: 'numpy.float64' object is not iterable"
     ]
    }
   ],
   "source": [
    "def lowest_average_error_rate(resultado_GFHF, label_array):\n",
    "  errors = np.not_equal(resultado_GFHF, label_array)\n",
    "  error_rates = np.mean(errors)\n",
    "  lowest_error_rate = min(error_rates)\n",
    "  return lowest_error_rate\n",
    "\n",
    "lowest_error_rate = lowest_average_error_rate(resultado_GFHF, label_array)\n",
    "\n",
    "print(\"O menor erro médio obtido é:\", lowest_error_rate)\n"
   ]
  },
  {
   "cell_type": "markdown",
   "metadata": {},
   "source": []
  }
 ],
 "metadata": {
  "kernelspec": {
   "display_name": "Python 3",
   "language": "python",
   "name": "python3"
  },
  "language_info": {
   "codemirror_mode": {
    "name": "ipython",
    "version": 3
   },
   "file_extension": ".py",
   "mimetype": "text/x-python",
   "name": "python",
   "nbconvert_exporter": "python",
   "pygments_lexer": "ipython3",
   "version": "3.11.4"
  }
 },
 "nbformat": 4,
 "nbformat_minor": 2
}
